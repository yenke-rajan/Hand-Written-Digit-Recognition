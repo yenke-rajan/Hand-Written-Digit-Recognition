{
 "cells": [
  {
   "cell_type": "markdown",
   "id": "9eaf2703-0589-4c70-9a6d-e6f3c42e2548",
   "metadata": {},
   "source": [
    "#### Project 2: Handwritten Digit Recognition (Computer Vision) Assignment\n",
    "#### Project description: \n",
    "This project is based on computer vision and machine learning, where the goal is to develop an algorithm that can recognize and classify handwritten digits into their respective numerical values (0 -9).\n",
    "#### Use case: \n",
    "Postal Automation (ZIP code recognition) and bank Check Processing and digitizing Historical documents."
   ]
  },
  {
   "cell_type": "markdown",
   "id": "d8190633-b313-4586-be36-fe86436f0efc",
   "metadata": {},
   "source": [
    "#### Introduction\n",
    "This project demonstrates how to build a Logistic Regression model to classify handwritten digits using the MNIST dataset. The MNIST dataset is a large database of handwritten digits commonly used for training various image processing systems. The goal is to recognize digits from 0 to 9."
   ]
  },
  {
   "cell_type": "markdown",
   "id": "f4521349-27b9-42db-b368-7ff9a6137a83",
   "metadata": {},
   "source": [
    "#### Prerequisites\n",
    "Before running the code, ensure you have the following libraries installed:\n",
    "\n",
    "1. numpy\n",
    "2. matplotlib\n",
    "3. scikit-learn"
   ]
  },
  {
   "cell_type": "markdown",
   "id": "2386118f-3717-4099-8253-3402434e072e",
   "metadata": {},
   "source": [
    "#### Importing the necessary libraries"
   ]
  },
  {
   "cell_type": "markdown",
   "id": "e98c7b1a-b12f-4c99-a04f-f6b0a180ca7f",
   "metadata": {},
   "source": [
    "We import the necessary libraries for data manipulation, visualization, and machine learning."
   ]
  },
  {
   "cell_type": "code",
   "execution_count": 91,
   "id": "780131fb-3c20-4a1f-b04d-25d85003556f",
   "metadata": {},
   "outputs": [],
   "source": [
    "import numpy as np\n",
    "import matplotlib.pyplot as plt\n",
    "from sklearn.datasets import fetch_openml\n",
    "from sklearn.linear_model import LogisticRegression\n",
    "from sklearn.model_selection import cross_val_score\n",
    "from sklearn.preprocessing import StandardScaler"
   ]
  },
  {
   "cell_type": "markdown",
   "id": "b60bdde9-514a-4a2a-88f7-302dba1015f4",
   "metadata": {},
   "source": [
    "#### Fetching the MNIST dataset"
   ]
  },
  {
   "cell_type": "markdown",
   "id": "d9fbf9e9-1b38-4ef0-9f4b-d04beff57a83",
   "metadata": {},
   "source": [
    "We fetch the MNIST dataset using fetch_openml and extract the data and labels."
   ]
  },
  {
   "cell_type": "code",
   "execution_count": 93,
   "id": "2efbde6d-1a36-423f-890e-17939f204cc7",
   "metadata": {},
   "outputs": [],
   "source": [
    "mnist = fetch_openml('mnist_784', parser='auto')"
   ]
  },
  {
   "cell_type": "markdown",
   "id": "6a30fa11-dc7a-4c3e-afcd-c9280409ddb7",
   "metadata": {},
   "source": [
    "#### Extracting the data and labels from the dataset"
   ]
  },
  {
   "cell_type": "code",
   "execution_count": 95,
   "id": "38840b64-ceb2-4856-9e78-7d09cfe854cf",
   "metadata": {},
   "outputs": [],
   "source": [
    "x, y = mnist['data'], mnist['target']"
   ]
  },
  {
   "cell_type": "markdown",
   "id": "cc798715-0d53-47ad-adec-ae300792fa65",
   "metadata": {},
   "source": [
    "#### Displaying the shape of the data and labels"
   ]
  },
  {
   "cell_type": "markdown",
   "id": "3750fdeb-0f4e-4962-899c-c9a457d7e2df",
   "metadata": {},
   "source": [
    "We print the shape of the data and labels to understand the dimensions of our dataset."
   ]
  },
  {
   "cell_type": "code",
   "execution_count": 99,
   "id": "903a8cd6-2e15-4c79-b609-d2de2d120c66",
   "metadata": {},
   "outputs": [
    {
     "name": "stdout",
     "output_type": "stream",
     "text": [
      "Data shape: (70000, 784)\n",
      "Labels shape: (70000,)\n"
     ]
    }
   ],
   "source": [
    "print(f\"Data shape: {x.shape}\")\n",
    "print(f\"Labels shape: {y.shape}\")"
   ]
  },
  {
   "cell_type": "markdown",
   "id": "a735c2e1-4e2b-4fd2-a083-342f05842639",
   "metadata": {},
   "source": [
    "#### Displaying a sample digit from the dataset"
   ]
  },
  {
   "cell_type": "markdown",
   "id": "e0136b90-cbce-4094-908d-8f76b85f0fad",
   "metadata": {},
   "source": [
    "We visualize a sample digit from the dataset and print its corresponding label."
   ]
  },
  {
   "cell_type": "code",
   "execution_count": 102,
   "id": "2985bf97-5811-42b2-9a76-cb284fe32e72",
   "metadata": {},
   "outputs": [],
   "source": [
    "some_digit = x.to_numpy()[36001]\n",
    "some_digit_image = some_digit.reshape(28, 28)  # Reshaping to 28x28 to visualize"
   ]
  },
  {
   "cell_type": "code",
   "execution_count": 104,
   "id": "6a4dc113-5786-4fdf-abae-a4e1d7d3b7b0",
   "metadata": {},
   "outputs": [
    {
     "data": {
      "image/png": "[encoded data removed]",
      "text/plain": [
       "<Figure size 640x480 with 1 Axes>"
      ]
     },
     "metadata": {},
     "output_type": "display_data"
    }
   ],
   "source": [
    "plt.imshow(some_digit_image, cmap=plt.cm.binary, interpolation='nearest')\n",
    "plt.axis(\"off\")\n",
    "plt.show()"
   ]
  },
  {
   "cell_type": "code",
   "execution_count": 106,
   "id": "f9de63fc-e7da-4183-9073-d6cace7b6056",
   "metadata": {},
   "outputs": [
    {
     "name": "stdout",
     "output_type": "stream",
     "text": [
      "The label for this image is: 2\n"
     ]
    }
   ],
   "source": [
    "# Checking the corresponding label\n",
    "print(f\"The label for this image is: {y[36001]}\")"
   ]
  },
  {
   "cell_type": "markdown",
   "id": "1be4b73a-2610-4b15-b73e-42696a2bfef6",
   "metadata": {},
   "source": [
    "#### Splitting the data into training and testing sets"
   ]
  },
  {
   "cell_type": "markdown",
   "id": "2f287e4a-4964-4582-9fdb-846565b8bb4f",
   "metadata": {},
   "source": [
    "We split the data into training and testing sets."
   ]
  },
  {
   "cell_type": "code",
   "execution_count": 109,
   "id": "5e20096e-3b63-4b9b-b277-bd51de00655b",
   "metadata": {},
   "outputs": [],
   "source": [
    "x_train, x_test = x[:60000].to_numpy(), x[60000:].to_numpy()\n",
    "y_train, y_test = y[:60000].to_numpy(), y[60000:].to_numpy()"
   ]
  },
  {
   "cell_type": "markdown",
   "id": "874abd44-859f-46c2-b671-fa2bfc2b0eab",
   "metadata": {},
   "source": [
    "#### Shuffling the training data to ensure random distribution"
   ]
  },
  {
   "cell_type": "markdown",
   "id": "88e7f387-a2c4-4fad-acd2-df20e7147c35",
   "metadata": {},
   "source": [
    "We shuffle the training data to ensure a random distribution."
   ]
  },
  {
   "cell_type": "code",
   "execution_count": 112,
   "id": "31bc5752-de39-426d-99d2-99984ab6a869",
   "metadata": {},
   "outputs": [],
   "source": [
    "shuffle_index = np.random.permutation(60000)\n",
    "x_train, y_train = x_train[shuffle_index], y_train[shuffle_index]"
   ]
  },
  {
   "cell_type": "markdown",
   "id": "d4170007-cfe2-4a8e-84ee-d97b6458a3a3",
   "metadata": {},
   "source": [
    "#### Scaling the data"
   ]
  },
  {
   "cell_type": "markdown",
   "id": "569619fb-35ef-425b-89a9-d59ef6e0cf43",
   "metadata": {},
   "source": [
    "We scale the data to improve the performance of the Logistic Regression model."
   ]
  },
  {
   "cell_type": "code",
   "execution_count": 120,
   "id": "eece046e-ac81-47d6-8ee2-443a35d19a51",
   "metadata": {},
   "outputs": [],
   "source": [
    "scaler = StandardScaler()\n",
    "x_train_scaled = scaler.fit_transform(x_train.astype(np.float64))\n",
    "x_test_scaled = scaler.transform(x_test.astype(np.float64))"
   ]
  },
  {
   "cell_type": "markdown",
   "id": "d5097e41-838d-41f1-89c3-b090c9cd4264",
   "metadata": {},
   "source": [
    "#### Converting the labels to integers"
   ]
  },
  {
   "cell_type": "markdown",
   "id": "d326988e-6066-46d5-9a64-8ebec954febc",
   "metadata": {},
   "source": [
    "We convert the labels to integers for compatibility with the Logistic Regression model."
   ]
  },
  {
   "cell_type": "code",
   "execution_count": 123,
   "id": "78f61e39-b7ea-4305-9257-c9592c8d27bd",
   "metadata": {},
   "outputs": [],
   "source": [
    "y_train = y_train.astype(np.int8)\n",
    "y_test = y_test.astype(np.int8)"
   ]
  },
  {
   "cell_type": "code",
   "execution_count": 125,
   "id": "176f5988-1046-437a-86a9-ba98c267c774",
   "metadata": {},
   "outputs": [],
   "source": [
    "# Creating a binary classifier for detecting the digit '2'\n",
    "y_train_2 = (y_train == 2)\n",
    "y_test_2 = (y_test == 2)"
   ]
  },
  {
   "cell_type": "markdown",
   "id": "3977a66d-1b3b-43fa-844c-324d3066aa30",
   "metadata": {},
   "source": [
    "#### Training a Logistic Regression classifier"
   ]
  },
  {
   "cell_type": "markdown",
   "id": "a126e254-e0d0-434f-8511-5d0d1869a2c8",
   "metadata": {},
   "source": [
    "We train a Logistic Regression classifier with increased iterations and scaled data."
   ]
  },
  {
   "cell_type": "code",
   "execution_count": 128,
   "id": "2c7d7b80-f192-4c14-9eae-78cf22c0af57",
   "metadata": {},
   "outputs": [
    {
     "data": {
      "text/html": [
       "<style>#sk-container-id-5 {color: black;}#sk-container-id-5 pre{padding: 0;}#sk-container-id-5 div.sk-toggleable {background-color: white;}#sk-container-id-5 label.sk-toggleable__label {cursor: pointer;display: block;width: 100%;margin-bottom: 0;padding: 0.3em;box-sizing: border-box;text-align: center;}#sk-container-id-5 label.sk-toggleable__label-arrow:before {content: \"▸\";float: left;margin-right: 0.25em;color: #696969;}#sk-container-id-5 label.sk-toggleable__label-arrow:hover:before {color: black;}#sk-container-id-5 div.sk-estimator:hover label.sk-toggleable__label-arrow:before {color: black;}#sk-container-id-5 div.sk-toggleable__content {max-height: 0;max-width: 0;overflow: hidden;text-align: left;background-color: #f0f8ff;}#sk-container-id-5 div.sk-toggleable__content pre {margin: 0.2em;color: black;border-radius: 0.25em;background-color: #f0f8ff;}#sk-container-id-5 input.sk-toggleable__control:checked~div.sk-toggleable__content {max-height: 200px;max-width: 100%;overflow: auto;}#sk-container-id-5 input.sk-toggleable__control:checked~label.sk-toggleable__label-arrow:before {content: \"▾\";}#sk-container-id-5 div.sk-estimator input.sk-toggleable__control:checked~label.sk-toggleable__label {background-color: #d4ebff;}#sk-container-id-5 div.sk-label input.sk-toggleable__control:checked~label.sk-toggleable__label {background-color: #d4ebff;}#sk-container-id-5 input.sk-hidden--visually {border: 0;clip: rect(1px 1px 1px 1px);clip: rect(1px, 1px, 1px, 1px);height: 1px;margin: -1px;overflow: hidden;padding: 0;position: absolute;width: 1px;}#sk-container-id-5 div.sk-estimator {font-family: monospace;background-color: #f0f8ff;border: 1px dotted black;border-radius: 0.25em;box-sizing: border-box;margin-bottom: 0.5em;}#sk-container-id-5 div.sk-estimator:hover {background-color: #d4ebff;}#sk-container-id-5 div.sk-parallel-item::after {content: \"\";width: 100%;border-bottom: 1px solid gray;flex-grow: 1;}#sk-container-id-5 div.sk-label:hover label.sk-toggleable__label {background-color: #d4ebff;}#sk-container-id-5 div.sk-serial::before {content: \"\";position: absolute;border-left: 1px solid gray;box-sizing: border-box;top: 0;bottom: 0;left: 50%;z-index: 0;}#sk-container-id-5 div.sk-serial {display: flex;flex-direction: column;align-items: center;background-color: white;padding-right: 0.2em;padding-left: 0.2em;position: relative;}#sk-container-id-5 div.sk-item {position: relative;z-index: 1;}#sk-container-id-5 div.sk-parallel {display: flex;align-items: stretch;justify-content: center;background-color: white;position: relative;}#sk-container-id-5 div.sk-item::before, #sk-container-id-5 div.sk-parallel-item::before {content: \"\";position: absolute;border-left: 1px solid gray;box-sizing: border-box;top: 0;bottom: 0;left: 50%;z-index: -1;}#sk-container-id-5 div.sk-parallel-item {display: flex;flex-direction: column;z-index: 1;position: relative;background-color: white;}#sk-container-id-5 div.sk-parallel-item:first-child::after {align-self: flex-end;width: 50%;}#sk-container-id-5 div.sk-parallel-item:last-child::after {align-self: flex-start;width: 50%;}#sk-container-id-5 div.sk-parallel-item:only-child::after {width: 0;}#sk-container-id-5 div.sk-dashed-wrapped {border: 1px dashed gray;margin: 0 0.4em 0.5em 0.4em;box-sizing: border-box;padding-bottom: 0.4em;background-color: white;}#sk-container-id-5 div.sk-label label {font-family: monospace;font-weight: bold;display: inline-block;line-height: 1.2em;}#sk-container-id-5 div.sk-label-container {text-align: center;}#sk-container-id-5 div.sk-container {/* jupyter's `normalize.less` sets `[hidden] { display: none; }` but bootstrap.min.css set `[hidden] { display: none !important; }` so we also need the `!important` here to be able to override the default hidden behavior on the sphinx rendered scikit-learn.org. See: https://github.com/scikit-learn/scikit-learn/issues/21755 */display: inline-block !important;position: relative;}#sk-container-id-5 div.sk-text-repr-fallback {display: none;}</style><div id=\"sk-container-id-5\" class=\"sk-top-container\"><div class=\"sk-text-repr-fallback\"><pre>LogisticRegression(max_iter=1000, solver=&#x27;saga&#x27;, tol=0.1)</pre><b>In a Jupyter environment, please rerun this cell to show the HTML representation or trust the notebook. <br />On GitHub, the HTML representation is unable to render, please try loading this page with nbviewer.org.</b></div><div class=\"sk-container\" hidden><div class=\"sk-item\"><div class=\"sk-estimator sk-toggleable\"><input class=\"sk-toggleable__control sk-hidden--visually\" id=\"sk-estimator-id-5\" type=\"checkbox\" checked><label for=\"sk-estimator-id-5\" class=\"sk-toggleable__label sk-toggleable__label-arrow\">LogisticRegression</label><div class=\"sk-toggleable__content\"><pre>LogisticRegression(max_iter=1000, solver=&#x27;saga&#x27;, tol=0.1)</pre></div></div></div></div></div>"
      ],
      "text/plain": [
       "LogisticRegression(max_iter=1000, solver='saga', tol=0.1)"
      ]
     },
     "execution_count": 128,
     "metadata": {},
     "output_type": "execute_result"
    }
   ],
   "source": [
    "clf = LogisticRegression(tol=0.1, max_iter=1000, solver='saga')\n",
    "clf.fit(x_train_scaled, y_train_2)"
   ]
  },
  {
   "cell_type": "markdown",
   "id": "9beaac2f-a94b-431c-ba4f-c89ce8d7b15e",
   "metadata": {},
   "source": [
    "#### Predicting the label for the sample digit"
   ]
  },
  {
   "cell_type": "markdown",
   "id": "43957815-2cfe-44ad-8042-93861104d92c",
   "metadata": {},
   "source": [
    "We predict whether the sample digit is ‘2’."
   ]
  },
  {
   "cell_type": "code",
   "execution_count": 131,
   "id": "f7a17e28-1cea-4833-85bc-973758a1e0eb",
   "metadata": {},
   "outputs": [
    {
     "name": "stdout",
     "output_type": "stream",
     "text": [
      "Is the digit '2'? [ True]\n"
     ]
    }
   ],
   "source": [
    "example = clf.predict([some_digit])\n",
    "print(f\"Is the digit '2'? {example}\")"
   ]
  },
  {
   "cell_type": "markdown",
   "id": "ddef07e6-83a9-496e-9054-990cb3b2a2c4",
   "metadata": {},
   "source": [
    "Which is True."
   ]
  },
  {
   "cell_type": "markdown",
   "id": "1631a94e-9bcd-4a60-857f-6131eda0922b",
   "metadata": {},
   "source": [
    "#### Cross-validating the classifier to check its accuracy"
   ]
  },
  {
   "cell_type": "markdown",
   "id": "15122dbd-f806-49d1-9de6-38f3edb50ce2",
   "metadata": {},
   "source": [
    "We evaluate the accuracy of the classifier using cross-validation."
   ]
  },
  {
   "cell_type": "code",
   "execution_count": 134,
   "id": "898d7a07-f9a9-48f7-a5b7-80ae9b4ce5ce",
   "metadata": {},
   "outputs": [
    {
     "name": "stdout",
     "output_type": "stream",
     "text": [
      "Cross-validated accuracy: 0.9480833333333334\n"
     ]
    }
   ],
   "source": [
    "accuracy = cross_val_score(clf, x_train_scaled, y_train_2, cv=3, scoring=\"accuracy\")\n",
    "print(f\"Cross-validated accuracy: {accuracy.mean()}\")"
   ]
  },
  {
   "cell_type": "markdown",
   "id": "3d20f1d7-8780-4278-aa1c-740f7d4f38b0",
   "metadata": {},
   "source": [
    "We get an accuracy of 0.9480833333333334"
   ]
  },
  {
   "cell_type": "markdown",
   "id": "c7ae9bb8-e642-4c38-94b1-175b4f8adcf3",
   "metadata": {},
   "source": [
    "#### Conclusion"
   ]
  },
  {
   "cell_type": "markdown",
   "id": "fbbc096f-b2f6-4768-a2ff-fa819c489a2a",
   "metadata": {},
   "source": [
    "We summarize the results and conclude the project."
   ]
  },
  {
   "cell_type": "code",
   "execution_count": 137,
   "id": "3af4e03b-5ad9-49f4-b19d-82c35563d7ae",
   "metadata": {},
   "outputs": [
    {
     "name": "stdout",
     "output_type": "stream",
     "text": [
      "\n",
      "Conclusion:\n",
      "In this notebook, we successfully built a Logistic Regression model to classify handwritten digits using the MNIST dataset.\n",
      "We visualized a sample digit, trained the model, and evaluated its accuracy using cross-validation.\n",
      "The model achieved a high accuracy, demonstrating its effectiveness in digit classification tasks.\n"
     ]
    }
   ],
   "source": [
    "print(\"\\nConclusion:\")\n",
    "print(\"In this notebook, we successfully built a Logistic Regression model to classify handwritten digits using the MNIST dataset.\")\n",
    "print(\"We visualized a sample digit, trained the model, and evaluated its accuracy using cross-validation.\")\n",
    "print(\"The model achieved a high accuracy, demonstrating its effectiveness in digit classification tasks.\")"
   ]
  },
  {
   "cell_type": "markdown",
   "id": "d12918c6-4f18-47b8-b6a7-09dd73c11fec",
   "metadata": {},
   "source": [
    "### Summary of Results:\n",
    "\n",
    "#### Data Preparation:\n",
    "The MNIST dataset was successfully fetched and split into training and testing sets.\n",
    "The data was shuffled to ensure a random distribution.\n",
    "The features were scaled using StandardScaler to improve model performance.\n",
    "\n",
    "#### Model Training:\n",
    "A Logistic Regression model was trained to classify the digit ‘2’ from the dataset.\n",
    "The model was trained with increased iterations and the saga solver to handle the large dataset effectively\n",
    "\n",
    "#### Model Evaluation:\n",
    "The model’s performance was evaluated using cross-validation, achieving a high accuracy of approximately 94.80%.\n",
    "The model correctly predicted whether a sample digit was ‘2’.\n",
    "\n",
    "#### Conclusion:\n",
    "In this project, we successfully built a Logistic Regression model to classify handwritten digits using the MNIST dataset. We visualized a sample digit, trained the model, and evaluated its accuracy using cross-validation. The model achieved a high accuracy, demonstrating its effectiveness in digit classification tasks. This project highlights the potential of Logistic Regression for image classification and sets the stage for further exploration with more complex models and techniques."
   ]
  },
  {
   "cell_type": "code",
   "execution_count": null,
   "id": "af331b41-2639-41c1-a88b-7fcac2a1e876",
   "metadata": {},
   "outputs": [],
   "source": []
  }
 ],
 "metadata": {
  "kernelspec": {
   "display_name": "Python 3 (ipykernel)",
   "language": "python",
   "name": "python3"
  },
  "language_info": {
   "codemirror_mode": {
    "name": "ipython",
    "version": 3
   },
   "file_extension": ".py",
   "mimetype": "text/x-python",
   "name": "python",
   "nbconvert_exporter": "python",
   "pygments_lexer": "ipython3",
   "version": "3.11.5"
  }
 },
 "nbformat": 4,
 "nbformat_minor": 5
}
